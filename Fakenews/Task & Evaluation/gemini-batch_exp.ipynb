{
 "cells": [
  {
   "cell_type": "code",
   "execution_count": 16,
   "metadata": {},
   "outputs": [],
   "source": [
    "import pandas as pd\n",
    "import matplotlib.pyplot as plt\n",
    "import csv, random, os, sys, json, requests, re\n",
    "import numpy as np\n",
    "import pandas as pd\n",
    "from pandas import read_csv\n",
    "import matplotlib.pyplot as plt\n",
    "import time\n",
    "from google.cloud import bigquery\n",
    "\n",
    "\n",
    "safe = [\n",
    "    {\n",
    "        \"category\": \"HARM_CATEGORY_DANGEROUS_CONTENT\",\n",
    "        \"threshold\": \"BLOCK_ONLY_HIGH\",\n",
    "    },\n",
    "    {\n",
    "        \"category\": \"HARM_CATEGORY_HARASSMENT\",\n",
    "        \"threshold\": \"BLOCK_ONLY_HIGH\",\n",
    "    },\n",
    "    {\n",
    "        \"category\": \"HARM_CATEGORY_HATE_SPEECH\",\n",
    "        \"threshold\": \"BLOCK_ONLY_HIGH\",\n",
    "    },\n",
    "    {\n",
    "        \"category\": \"HARM_CATEGORY_SEXUALLY_EXPLICIT\",\n",
    "        \"threshold\": \"BLOCK_ONLY_HIGH\",\n",
    "    },\n",
    "]"
   ]
  },
  {
   "cell_type": "markdown",
   "metadata": {},
   "source": [
    "## 1. Make batchfile & Upload to BigQuery"
   ]
  },
  {
   "cell_type": "code",
   "execution_count": 18,
   "metadata": {},
   "outputs": [],
   "source": [
    "file_name = \"zeroshot_example.json\"\n",
    "data = pd.read_csv('../data.csv')"
   ]
  },
  {
   "cell_type": "code",
   "execution_count": 19,
   "metadata": {},
   "outputs": [],
   "source": [
    "zeroshot_promt_txt = \"\"\"The uploaded text is one of the articles that may be real or fake.\n",
    "Please Answer whether below article is fake or real. Say nothing but the number 0 or 1.\n",
    "i.e. Answer 1 if you think the article is real, answer 0 if you think it is fake.\n",
    "\n",
    "\n",
    "###\n",
    "Output: (rational) + (0||1)\n",
    "\n",
    "\n",
    "\"\"\"\n",
    "\n",
    "cot_prompt_txt = \"\"\"The uploaded text is one of the articles that may be real or fake.\n",
    "Please Answer whether below article is fake or real. Give a 20-character rationale for why you think that way, and output a 0 and 1 at the end of the sentence.\n",
    "To Solve this, You have to think step by step. The first step in identifying fake news is evaluating the reliability of the information source. Well-known and verified news organizations are generally more reliable, and their reports can be trusted more than unverified sources.\n",
    "In addition to source reliability, look at the language used in the content. Fake news often uses sensational or exaggerated language designed to elicit an emotional response. It is also important to check for consistency and accuracy in the information presented; fake news typically includes claims that are either unverified or clearly false. Another critical step is cross-verification,\n",
    "where check if the same claims are reported by multiple trusted sources.\n",
    "i.e. rationale + answer 1 if you think the article is real, rationale + answer 0 if you think it is fake.\\n Must Keep in mind that the end of a sentence should end with either 0 or 1\n",
    "\n",
    "###\n",
    "Output: (rational) + (0||1)\n",
    "\n",
    "\n",
    "\"\"\"\n",
    "\n",
    "\n",
    "fewshot = \"\"\"Examples:\n",
    "\n",
    "Example Article (Real)\n",
    "Title: \"Three women contract HIV from dirty “vampire facials” at unlicensed spa\"\\\\\n",
    "Content: \"Trendy, unproven 'vampire facials' performed at an unlicensed spa in New Mexico left at least three women with HIV infections.\n",
    "This marks the first time that cosmetic procedures have been associated with an HIV outbreak,\n",
    "according to a detailed report of the outbreak investigation published today. Ars reported on the cluster last year when state health\n",
    "officials announced they were still identifying cases linked to the spa despite it being shut down in September 2018.\n",
    "But today’s investigation report offers more insight into the unprecedented outbreak, which linked five people with HIV infections to the spa and spurred investigators to contact and test nearly 200 other spa clients.\"\\\\\n",
    "Example Article (Fake)\\\\\n",
    "Title: \"New NFL Combine Drill Tests Player’s Ability To Half-Ass Taping Of Local Sandwich Shop Commercial\"\n",
    "Content: \"INDIANAPOLIS—In an effort to gain a fuller picture of prospective players and ensure they would be good fits for the teams that drafted them,\n",
    " a new NFL Scouting Combine drill tested a player’s ability to half-ass a taping of a local sandwich shop commercial,\n",
    "  sources confirmed Monday. As part of our new drill, invited players have been asked to stand stiffly in a jersey and ill-fitting jeans while reading awkwardly from cue cards that encourage customers to come on down to Big Dave’s or Galaxy Sandwich.\\\\\n",
    "\n",
    "rationale: When determining the authenticity of a news story, \"Three women contract HIV from dirty 'vampire facials' at unlicensed spa\" is judged to be real news because it is based on detailed investigative reporting and clear facts from a trusted source 1 . On the other hand, \"New NFL Combine Drill Tests Player's Ability To Half-Ass Taping Of Local Sandwich Shop Commercial\" is considered fake news because it uses satirical language and an unrealistic claim that the NFL Combine tests players' ability to film commercials 0.\n",
    "\n",
    "\n",
    "Now, Answer whether below article is fake or real with format below.\n",
    "Output: (rational) + (0||1)\n",
    " \n",
    "\n",
    "\"\"\""
   ]
  },
  {
   "cell_type": "code",
   "execution_count": 20,
   "metadata": {},
   "outputs": [
    {
     "name": "stdout",
     "output_type": "stream",
     "text": [
      "The length of the tasks is 3138\n"
     ]
    }
   ],
   "source": [
    "tasks = []\n",
    "\n",
    "prompt = zeroshot_promt_txt = \"\"\"The uploaded text is one of the articles that may be real or fake.\n",
    "Please Answer whether below article is fake or real. Say nothing but the number 0 or 1.\n",
    "i.e. Answer 1 if you think the article is real, answer 0 if you think it is fake.\n",
    "\n",
    "\n",
    "###\n",
    "Output: (rational) + (0||1)\n",
    "\n",
    "\n",
    "\"\"\"\n",
    "\n",
    "\n",
    "for i in range(len(data)):\n",
    "    task = {\n",
    "        \"request\": {\n",
    "            \"contents\": [\n",
    "                {\n",
    "                \"role\": \"user\",\n",
    "                    \"parts\": {\n",
    "                        \"text\": prompt + data.iloc[i][0]\n",
    "                    }\n",
    "                }\n",
    "            ],\n",
    "            \"system_instruction\": {\n",
    "                \"parts\": [\n",
    "                    {\n",
    "                        \"text\": \"You are a helpful AI assistant.\"\n",
    "                    }\n",
    "                ]\n",
    "            },\n",
    "            \"safety_settings\": safe\n",
    "        }\n",
    "  }\n",
    "    tasks.append(task)\n",
    "    \n",
    "print(f\"The length of the tasks is {len(tasks)}\")"
   ]
  },
  {
   "cell_type": "code",
   "execution_count": 21,
   "metadata": {},
   "outputs": [],
   "source": [
    "with open(file_name, 'w') as file:\n",
    "    for obj in tasks:\n",
    "        file.write(json.dumps(obj) + '\\n')"
   ]
  },
  {
   "cell_type": "code",
   "execution_count": 22,
   "metadata": {},
   "outputs": [],
   "source": [
    "from google.cloud import bigquery\n",
    "import os\n",
    "\n",
    "os.environ.setdefault(\"GCLOUD_PROJECT\", \"your-project-id\")\n",
    "\n",
    "client = bigquery.Client()\n",
    "table_id = 'your-project-id.your_dataset.your_table'\n",
    "job_config = bigquery.LoadJobConfig(\n",
    "\n",
    "    schema=[\n",
    "        bigquery.SchemaField(\"request\", \"JSON\")\n",
    "    ],\n",
    "    source_format=bigquery.SourceFormat.NEWLINE_DELIMITED_JSON,\n",
    "    write_disposition=bigquery.WriteDisposition.WRITE_APPEND,\n",
    "\n",
    ")"
   ]
  },
  {
   "cell_type": "markdown",
   "metadata": {},
   "source": [
    "- load to google Bigquery"
   ]
  },
  {
   "cell_type": "code",
   "execution_count": 23,
   "metadata": {},
   "outputs": [],
   "source": [
    "with open(file_name, \"rb\") as source_file:\n",
    "    job = client.load_table_from_file(source_file, table_id, job_config=job_config)"
   ]
  },
  {
   "cell_type": "code",
   "execution_count": null,
   "metadata": {},
   "outputs": [],
   "source": [
    "while job.state != \"DONE\":\n",
    "    job.reload()\n",
    "    time.sleep(1)\n",
    "print(job.result())"
   ]
  },
  {
   "cell_type": "markdown",
   "metadata": {},
   "source": [
    "- request data format for gemini api"
   ]
  },
  {
   "cell_type": "code",
   "execution_count": 25,
   "metadata": {},
   "outputs": [],
   "source": [
    "request_data = {\n",
    "    \"displayName\": \"zeroshot_test\", # A name you choose for your job.\n",
    "    \"model\": \"publishers/google/models/gemini-1.5-pro-001\",\n",
    "    \"inputConfig\": {\n",
    "        \"instancesFormat\":\"bigquery\",\n",
    "        \"bigquerySource\": {\n",
    "            \"inputUri\" : \"bq://planar-ripsaw-430918-a0.batch_zeroshot2.zeroshot2\"\n",
    "        }\n",
    "    },\n",
    "    \"outputConfig\": {\n",
    "        \"predictionsFormat\":\"bigquery\",\n",
    "        \"bigqueryDestination\": {\n",
    "            \"outputUri\": \"bq://planar-ripsaw-430918-a0.batch_zeroshot2.zeroshot2\"\n",
    "        }\n",
    "    }\n",
    "}\n",
    "\n",
    "with open(\"request.json\", \"w\") as file:\n",
    "    json.dump(request_data, file, indent=4)"
   ]
  },
  {
   "cell_type": "markdown",
   "metadata": {},
   "source": [
    "## 2. Get Results from BigQuery"
   ]
  },
  {
   "cell_type": "code",
   "execution_count": 15,
   "metadata": {},
   "outputs": [
    {
     "name": "stdout",
     "output_type": "stream",
     "text": [
      "done\n"
     ]
    }
   ],
   "source": [
    "\n",
    "import os\n",
    "os.environ.setdefault(\"GCLOUD_PROJECT\", \"planar-ripsaw-430918-a0\")\n",
    "client = bigquery.Client()\n",
    "\n",
    "# BigQuery\n",
    "query = \"\"\"\n",
    "SELECT request, response\n",
    "FROM `planar-ripsaw-430918-a0.batch_fewshot.fewshot`\n",
    "\"\"\"\n",
    "\n",
    "client = bigquery.Client()\n",
    "query_job = client.query(query)\n",
    "results = query_job.result()\n",
    "\n",
    "\n",
    "data = []\n",
    "for row in results:\n",
    "    data.append({\n",
    "        'request': row.get('request'),\n",
    "        'response': row.get('response')\n",
    "    })\n",
    "\n",
    "# save JSON\n",
    "with open('fewshot_res.json', 'w', encoding='utf-8') as f:\n",
    "    json.dump(data, f, indent=4)\n",
    "\n",
    "print(\"done\")\n",
    "\n"
   ]
  },
  {
   "cell_type": "code",
   "execution_count": 8,
   "metadata": {},
   "outputs": [
    {
     "name": "stdout",
     "output_type": "stream",
     "text": [
      "Schema:\n",
      "request (STRING)\n",
      "response (STRING)\n",
      "status (STRING)\n",
      "processed_time (TIMESTAMP)\n"
     ]
    }
   ],
   "source": [
    "table = client.get_table(table_id)\n",
    "\n",
    "print(\"Schema:\")\n",
    "for schema_field in table.schema:\n",
    "    print(f\"{schema_field.name} ({schema_field.field_type})\")"
   ]
  },
  {
   "cell_type": "code",
   "execution_count": null,
   "metadata": {},
   "outputs": [],
   "source": []
  }
 ],
 "metadata": {
  "kernelspec": {
   "display_name": "condanote",
   "language": "python",
   "name": "condanote"
  },
  "language_info": {
   "codemirror_mode": {
    "name": "ipython",
    "version": 3
   },
   "file_extension": ".py",
   "mimetype": "text/x-python",
   "name": "python",
   "nbconvert_exporter": "python",
   "pygments_lexer": "ipython3",
   "version": "3.9.16"
  }
 },
 "nbformat": 4,
 "nbformat_minor": 2
}
